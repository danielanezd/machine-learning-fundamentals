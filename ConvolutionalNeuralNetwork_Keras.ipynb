{
  "nbformat": 4,
  "nbformat_minor": 0,
  "metadata": {
    "colab": {
      "provenance": [],
      "authorship_tag": "ABX9TyPWTdqQHMdgTf9FaRSq6zwa",
      "include_colab_link": true
    },
    "kernelspec": {
      "name": "python3",
      "display_name": "Python 3"
    },
    "language_info": {
      "name": "python"
    }
  },
  "cells": [
    {
      "cell_type": "markdown",
      "metadata": {
        "id": "view-in-github",
        "colab_type": "text"
      },
      "source": [
        "<a href=\"https://colab.research.google.com/github/danielanezd/machine-learning-fundamentals/blob/main/ConvolutionalNeuralNetwork_Keras.ipynb\" target=\"_parent\"><img src=\"https://colab.research.google.com/assets/colab-badge.svg\" alt=\"Open In Colab\"/></a>"
      ]
    },
    {
      "cell_type": "code",
      "execution_count": null,
      "metadata": {
        "id": "k6Mw71pqE7R3"
      },
      "outputs": [],
      "source": [
        "# Dependencies\n",
        "from sklearn.datasets import load_sample_images\n",
        "import tensorflow as tf"
      ]
    },
    {
      "cell_type": "code",
      "source": [
        "images = load_sample_images()[\"images\"]\n",
        "images = tf.keras.layers.CenterCrop(height=70, width=120)(images)\n",
        "images = tf.keras.layers.Rescaling(scale=1/255)(images)"
      ],
      "metadata": {
        "id": "7vbucPaXFQ1O"
      },
      "execution_count": null,
      "outputs": []
    },
    {
      "cell_type": "code",
      "source": [
        "# See tensor dimensions\n",
        "images.shape"
      ],
      "metadata": {
        "colab": {
          "base_uri": "https://localhost:8080/"
        },
        "id": "RUn7OgXGHEIf",
        "outputId": "cc9b61da-4934-4200-b101-8175c61c2922"
      },
      "execution_count": null,
      "outputs": [
        {
          "output_type": "execute_result",
          "data": {
            "text/plain": [
              "TensorShape([2, 70, 120, 3])"
            ]
          },
          "metadata": {},
          "execution_count": 4
        }
      ]
    },
    {
      "cell_type": "code",
      "source": [
        "# Creating 2d conv layer\n",
        "conv_layer = tf.keras.layers.Conv2D(filters=32, kernel_size=7, padding=\"same\")\n",
        "fmaps = conv_layer(images)\n",
        "fmaps.shape"
      ],
      "metadata": {
        "colab": {
          "base_uri": "https://localhost:8080/"
        },
        "id": "hnaRevlSHNEt",
        "outputId": "4739da1a-f0a4-417d-c2b1-d3abfc14514c"
      },
      "execution_count": null,
      "outputs": [
        {
          "output_type": "execute_result",
          "data": {
            "text/plain": [
              "TensorShape([2, 70, 120, 32])"
            ]
          },
          "metadata": {},
          "execution_count": 6
        }
      ]
    },
    {
      "cell_type": "code",
      "source": [
        "# Layers weights through tf (we can also get them with numpy 'get_weights')\n",
        "kernels, biases = conv_layer.get_weights()\n",
        "kernels.shape"
      ],
      "metadata": {
        "colab": {
          "base_uri": "https://localhost:8080/"
        },
        "id": "zYTF4dHtIGs_",
        "outputId": "d036ad05-8601-46f6-97d6-9bafb7143cfe"
      },
      "execution_count": null,
      "outputs": [
        {
          "output_type": "execute_result",
          "data": {
            "text/plain": [
              "(7, 7, 3, 32)"
            ]
          },
          "metadata": {},
          "execution_count": 7
        }
      ]
    },
    {
      "cell_type": "code",
      "source": [
        "biases.shape"
      ],
      "metadata": {
        "colab": {
          "base_uri": "https://localhost:8080/"
        },
        "id": "vA3fc6QAKZgQ",
        "outputId": "b86527bb-7d04-43f7-ddae-36d2a0a85e18"
      },
      "execution_count": null,
      "outputs": [
        {
          "output_type": "execute_result",
          "data": {
            "text/plain": [
              "(32,)"
            ]
          },
          "metadata": {},
          "execution_count": 8
        }
      ]
    },
    {
      "cell_type": "code",
      "source": [
        "# Pooling layers\n",
        "max_pool = tf.keras.layers.MaxPool2D(pool_size=2)\n",
        "avg_pool = tf.keras.layers.AvgPool2D(pool_size=2)\n",
        "global_avrg_pool = tf.keras.layers.GlobalAvgPool2D()"
      ],
      "metadata": {
        "id": "jV4b_wwSKcP-"
      },
      "execution_count": 11,
      "outputs": []
    },
    {
      "cell_type": "code",
      "source": [
        "# Depthwise pool\n",
        "class DepthPool(tf.keras.layers.Layer):\n",
        "    def __init__(self, pool_size):\n",
        "      super().__init__()\n",
        "      self.pool_size = pool_size\n",
        "\n",
        "    def call(self, inputs):\n",
        "      shape = tf.shape(inputs)\n",
        "      groups = shape[-1]\n",
        "      new_shape = tf.concat([shape[:-1], [groups, self.pool_size]], axis=0)\n",
        "      return tf.reduce_max(tf.reshape(inputs, new_shape), axis=-1)"
      ],
      "metadata": {
        "id": "5iYjGMJXgUaq"
      },
      "execution_count": 10,
      "outputs": []
    },
    {
      "cell_type": "markdown",
      "source": [
        "Pooling layers are destructive as they return only the values accordingly to the aggregation function.\n",
        "\n",
        "This destruction increases if we apply the pooling layer to all the feature map using the Global Pooling layer (last example)"
      ],
      "metadata": {
        "id": "_JMrpixWicFX"
      }
    },
    {
      "cell_type": "code",
      "source": [
        "max_pool(images)"
      ],
      "metadata": {
        "colab": {
          "base_uri": "https://localhost:8080/"
        },
        "id": "9tCw3wuLg_eV",
        "outputId": "fab4deba-12af-4d0d-a3b6-fe6ff25efd5e"
      },
      "execution_count": 15,
      "outputs": [
        {
          "output_type": "execute_result",
          "data": {
            "text/plain": [
              "<tf.Tensor: shape=(2, 35, 60, 3), dtype=float32, numpy=\n",
              "array([[[[0.4901961 , 0.54901963, 0.5686275 ],\n",
              "         [0.3647059 , 0.47450984, 0.4784314 ],\n",
              "         [0.24705884, 0.39607847, 0.3529412 ],\n",
              "         ...,\n",
              "         [0.90196085, 0.8980393 , 0.9176471 ],\n",
              "         [0.9058824 , 0.90196085, 0.9215687 ],\n",
              "         [0.9058824 , 0.9058824 , 0.9215687 ]],\n",
              "\n",
              "        [[0.48627454, 0.4039216 , 0.46274513],\n",
              "         [0.26666668, 0.27058825, 0.28627452],\n",
              "         [0.43137258, 0.5137255 , 0.49411768],\n",
              "         ...,\n",
              "         [0.90196085, 0.90196085, 0.909804  ],\n",
              "         [0.90196085, 0.90196085, 0.909804  ],\n",
              "         [0.9058824 , 0.9058824 , 0.91372555]],\n",
              "\n",
              "        [[0.32156864, 0.30588236, 0.23137257],\n",
              "         [0.3254902 , 0.29803923, 0.19607845],\n",
              "         [0.36078432, 0.30980393, 0.27450982],\n",
              "         ...,\n",
              "         [0.90196085, 0.90196085, 0.909804  ],\n",
              "         [0.90196085, 0.90196085, 0.909804  ],\n",
              "         [0.9058824 , 0.9058824 , 0.91372555]],\n",
              "\n",
              "        ...,\n",
              "\n",
              "        [[0.5137255 , 0.25490198, 0.19215688],\n",
              "         [0.4666667 , 0.33333334, 0.227451  ],\n",
              "         [0.53333336, 0.34117648, 0.18823531],\n",
              "         ...,\n",
              "         [0.7686275 , 0.81568635, 0.8196079 ],\n",
              "         [0.77647066, 0.8196079 , 0.82745105],\n",
              "         [0.7686275 , 0.8117648 , 0.8196079 ]],\n",
              "\n",
              "        [[0.33333334, 0.30588236, 0.26666668],\n",
              "         [0.3803922 , 0.32941177, 0.2627451 ],\n",
              "         [0.4039216 , 0.33333334, 0.26666668],\n",
              "         ...,\n",
              "         [0.7686275 , 0.81568635, 0.81568635],\n",
              "         [0.7686275 , 0.8078432 , 0.8117648 ],\n",
              "         [0.7843138 , 0.81568635, 0.8235295 ]],\n",
              "\n",
              "        [[0.4431373 , 0.4666667 , 0.4666667 ],\n",
              "         [0.5058824 , 0.44705886, 0.33333334],\n",
              "         [0.45882356, 0.43529415, 0.3921569 ],\n",
              "         ...,\n",
              "         [0.7843138 , 0.8235295 , 0.8196079 ],\n",
              "         [0.7843138 , 0.8235295 , 0.8196079 ],\n",
              "         [0.7843138 , 0.8196079 , 0.81568635]]],\n",
              "\n",
              "\n",
              "       [[[0.87843144, 0.42352945, 0.15686275],\n",
              "         [0.86274517, 0.4431373 , 0.16862746],\n",
              "         [0.882353  , 0.50980395, 0.24705884],\n",
              "         ...,\n",
              "         [0.9490197 , 0.5529412 , 0.29803923],\n",
              "         [0.9568628 , 0.5529412 , 0.2901961 ],\n",
              "         [0.9490197 , 0.6039216 , 0.3372549 ]],\n",
              "\n",
              "        [[0.82745105, 0.3529412 , 0.03529412],\n",
              "         [0.86666673, 0.3529412 , 0.00784314],\n",
              "         [0.83921576, 0.32941177, 0.04705883],\n",
              "         ...,\n",
              "         [0.93725497, 0.67058825, 0.48627454],\n",
              "         [0.93725497, 0.6901961 , 0.49411768],\n",
              "         [0.9333334 , 0.6509804 , 0.47058827]],\n",
              "\n",
              "        [[0.85098046, 0.27450982, 0.01176471],\n",
              "         [0.8196079 , 0.2627451 , 0.02352941],\n",
              "         [0.8470589 , 0.23137257, 0.02352941],\n",
              "         ...,\n",
              "         [0.89019614, 0.6117647 , 0.40000004],\n",
              "         [0.8862746 , 0.6745098 , 0.42352945],\n",
              "         [0.8980393 , 0.68235296, 0.45882356]],\n",
              "\n",
              "        ...,\n",
              "\n",
              "        [[0.9176471 , 0.5176471 , 0.23529413],\n",
              "         [0.909804  , 0.4666667 , 0.19215688],\n",
              "         [0.85098046, 0.4039216 , 0.11764707],\n",
              "         ...,\n",
              "         [0.89019614, 0.427451  , 0.18431373],\n",
              "         [0.8313726 , 0.3647059 , 0.05490196],\n",
              "         [0.85098046, 0.39607847, 0.09411766]],\n",
              "\n",
              "        [[0.97647065, 0.5686275 , 0.2901961 ],\n",
              "         [0.9215687 , 0.54509807, 0.24705884],\n",
              "         [0.8980393 , 0.45882356, 0.13725491],\n",
              "         ...,\n",
              "         [0.94117653, 0.50980395, 0.27450982],\n",
              "         [0.86274517, 0.38431376, 0.12156864],\n",
              "         [0.8588236 , 0.43921572, 0.14117648]],\n",
              "\n",
              "        [[0.9803922 , 0.5686275 , 0.3372549 ],\n",
              "         [0.9725491 , 0.5294118 , 0.26666668],\n",
              "         [0.9450981 , 0.50980395, 0.23137257],\n",
              "         ...,\n",
              "         [0.9058824 , 0.5294118 , 0.3019608 ],\n",
              "         [0.95294124, 0.5803922 , 0.32941177],\n",
              "         [0.882353  , 0.43529415, 0.14901961]]]], dtype=float32)>"
            ]
          },
          "metadata": {},
          "execution_count": 15
        }
      ]
    },
    {
      "cell_type": "code",
      "source": [
        "avg_pool(images)"
      ],
      "metadata": {
        "colab": {
          "base_uri": "https://localhost:8080/"
        },
        "id": "m2BjAv1MiMlU",
        "outputId": "1f0b20ee-5cdb-4691-af0a-20837d9d3e03"
      },
      "execution_count": 14,
      "outputs": [
        {
          "output_type": "execute_result",
          "data": {
            "text/plain": [
              "<tf.Tensor: shape=(2, 35, 60, 3), dtype=float32, numpy=\n",
              "array([[[[0.2676471 , 0.34313726, 0.35784316],\n",
              "         [0.2627451 , 0.37058824, 0.36078435],\n",
              "         [0.17941177, 0.2764706 , 0.2754902 ],\n",
              "         ...,\n",
              "         [0.90196085, 0.8980393 , 0.9176471 ],\n",
              "         [0.9039216 , 0.9000001 , 0.91960794],\n",
              "         [0.904902  , 0.90196085, 0.91862756]],\n",
              "\n",
              "        [[0.3421569 , 0.3019608 , 0.29901963],\n",
              "         [0.16176471, 0.16960785, 0.15      ],\n",
              "         [0.28333336, 0.2911765 , 0.28137255],\n",
              "         ...,\n",
              "         [0.90196085, 0.90196085, 0.909804  ],\n",
              "         [0.89901966, 0.89901966, 0.90686285],\n",
              "         [0.9039216 , 0.9039216 , 0.9117648 ]],\n",
              "\n",
              "        [[0.27058825, 0.26372552, 0.20686275],\n",
              "         [0.27156866, 0.20588237, 0.11568628],\n",
              "         [0.3137255 , 0.2529412 , 0.16960785],\n",
              "         ...,\n",
              "         [0.89803934, 0.89803934, 0.9058824 ],\n",
              "         [0.8990197 , 0.8990197 , 0.9068628 ],\n",
              "         [0.90196085, 0.90196085, 0.909804  ]],\n",
              "\n",
              "        ...,\n",
              "\n",
              "        [[0.46568632, 0.2519608 , 0.15294118],\n",
              "         [0.41078433, 0.28137258, 0.21176472],\n",
              "         [0.47058827, 0.2882353 , 0.16176471],\n",
              "         ...,\n",
              "         [0.76470596, 0.80980396, 0.8137256 ],\n",
              "         [0.76764715, 0.8107844 , 0.81862754],\n",
              "         [0.76176476, 0.80588245, 0.8117647 ]],\n",
              "\n",
              "        [[0.23627451, 0.19901961, 0.16274512],\n",
              "         [0.22450982, 0.21764708, 0.1637255 ],\n",
              "         [0.277451  , 0.20784315, 0.16078433],\n",
              "         ...,\n",
              "         [0.7637256 , 0.81078434, 0.80686283],\n",
              "         [0.76764715, 0.80686283, 0.80686283],\n",
              "         [0.7735294 , 0.81078434, 0.8137256 ]],\n",
              "\n",
              "        [[0.39803922, 0.42352945, 0.37058824],\n",
              "         [0.43529415, 0.41960788, 0.3107843 ],\n",
              "         [0.43039218, 0.40490198, 0.31372553],\n",
              "         ...,\n",
              "         [0.77058834, 0.8117648 , 0.80686283],\n",
              "         [0.76666677, 0.8058824 , 0.7970589 ],\n",
              "         [0.77254915, 0.8078432 , 0.8039217 ]]],\n",
              "\n",
              "\n",
              "       [[[0.8568628 , 0.4166667 , 0.12843138],\n",
              "         [0.85392165, 0.39901963, 0.09901961],\n",
              "         [0.8578432 , 0.41078433, 0.13137256],\n",
              "         ...,\n",
              "         [0.9313726 , 0.5411765 , 0.2882353 ],\n",
              "         [0.9343138 , 0.54215693, 0.28235295],\n",
              "         [0.9352942 , 0.58137256, 0.31176472]],\n",
              "\n",
              "        [[0.82549024, 0.30784315, 0.01470588],\n",
              "         [0.84019613, 0.2990196 , 0.00196078],\n",
              "         [0.82745105, 0.29803923, 0.01470588],\n",
              "         ...,\n",
              "         [0.91372555, 0.65882355, 0.4754902 ],\n",
              "         [0.9225491 , 0.654902  , 0.45098042],\n",
              "         [0.9245099 , 0.59705883, 0.3911765 ]],\n",
              "\n",
              "        [[0.8264707 , 0.26078433, 0.00686275],\n",
              "         [0.8137256 , 0.2529412 , 0.01470588],\n",
              "         [0.8186275 , 0.21960786, 0.00882353],\n",
              "         ...,\n",
              "         [0.85196084, 0.54509807, 0.3431373 ],\n",
              "         [0.8617648 , 0.60882354, 0.37254903],\n",
              "         [0.8843138 , 0.6539216 , 0.42549023]],\n",
              "\n",
              "        ...,\n",
              "\n",
              "        [[0.90196085, 0.46274513, 0.18333334],\n",
              "         [0.8833334 , 0.45294118, 0.1509804 ],\n",
              "         [0.83529425, 0.3921569 , 0.08039216],\n",
              "         ...,\n",
              "         [0.8019609 , 0.3254902 , 0.06078432],\n",
              "         [0.8196079 , 0.34607846, 0.0382353 ],\n",
              "         [0.83235306, 0.35882357, 0.0509804 ]],\n",
              "\n",
              "        [[0.94313735, 0.53627455, 0.25882354],\n",
              "         [0.9029412 , 0.49901962, 0.21372549],\n",
              "         [0.87843144, 0.42352945, 0.11176471],\n",
              "         ...,\n",
              "         [0.8862746 , 0.44607848, 0.20490196],\n",
              "         [0.83529425, 0.3676471 , 0.09411766],\n",
              "         [0.84901965, 0.4156863 , 0.1254902 ]],\n",
              "\n",
              "        [[0.95588243, 0.5519608 , 0.29411766],\n",
              "         [0.9568628 , 0.51862746, 0.25      ],\n",
              "         [0.92647064, 0.4813726 , 0.19607843],\n",
              "         ...,\n",
              "         [0.87156874, 0.3686275 , 0.14411765],\n",
              "         [0.86666673, 0.44509807, 0.19313726],\n",
              "         [0.87254906, 0.42254907, 0.14509805]]]], dtype=float32)>"
            ]
          },
          "metadata": {},
          "execution_count": 14
        }
      ]
    },
    {
      "cell_type": "markdown",
      "source": [
        "Here we only get two lists with the Global Average for each channel because of the two input images we have in this example. See that is a list of lists, containing only one element."
      ],
      "metadata": {
        "id": "9EgTB157jmH5"
      }
    },
    {
      "cell_type": "code",
      "source": [
        "global_avrg_pool(images)"
      ],
      "metadata": {
        "colab": {
          "base_uri": "https://localhost:8080/"
        },
        "id": "9aUvTXH6iT07",
        "outputId": "0101e9da-ef31-41b4-c01e-7b624222921b"
      },
      "execution_count": 16,
      "outputs": [
        {
          "output_type": "execute_result",
          "data": {
            "text/plain": [
              "<tf.Tensor: shape=(2, 3), dtype=float32, numpy=\n",
              "array([[0.64338624, 0.5971759 , 0.5824972 ],\n",
              "       [0.76306933, 0.2601113 , 0.10849128]], dtype=float32)>"
            ]
          },
          "metadata": {},
          "execution_count": 16
        }
      ]
    },
    {
      "cell_type": "code",
      "source": [],
      "metadata": {
        "id": "JLDGU8IEiYoM"
      },
      "execution_count": null,
      "outputs": []
    }
  ]
}